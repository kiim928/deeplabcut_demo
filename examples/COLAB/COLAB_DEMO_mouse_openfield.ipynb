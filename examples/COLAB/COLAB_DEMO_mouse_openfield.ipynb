{
  "cells": [
    {
      "cell_type": "markdown",
      "metadata": {
        "id": "view-in-github",
        "colab_type": "text"
      },
      "source": [
        "<a href=\"https://colab.research.google.com/github/kiim928/deeplabcut_demo/blob/main/examples/COLAB/COLAB_DEMO_mouse_openfield.ipynb\" target=\"_parent\"><img src=\"https://colab.research.google.com/assets/colab-badge.svg\" alt=\"Open In Colab\"/></a>"
      ]
    },
    {
      "cell_type": "markdown",
      "metadata": {
        "id": "TGChzLdc-lUJ"
      },
      "source": [
        "# DeepLabCut 3.0 Toolbox - Colab Demo on TopView Mouse Data\n",
        "\n",
        "Some useful links:\n",
        "\n",
        "- [DeepLabCut's GitHub: github.com/DeepLabCut/DeepLabCut](https://github.com/DeepLabCut/DeepLabCut)\n",
        "- [DeepLabCut's Documentation: User Guide for Single Animal projects](https://deeplabcut.github.io/DeepLabCut/docs/standardDeepLabCut_UserGuide.html)\n",
        "\n",
        "![alt text](https://images.squarespace-cdn.com/content/v1/57f6d51c9f74566f55ecf271/1559935526258-KFYZC8BDHK01ZIDPNVIX/mouse_skel_trail.gif?format=450w)\n",
        "\n",
        "Demo supporting: Nath\\*, Mathis\\* et al. *Using DeepLabCut for markerless3D  pose estimation during behavior across species. Nature Protocols, 2019\n",
        "\n",
        "This notebook demonstrates the necessary steps to use DeepLabCut on our demo data. We provide a sub-set of the mouse data from Mathis et al, 2018 Nature Neuroscience.\n",
        "\n",
        "This demo notebook mostly shows the most simple code to train and evaluate your model, but many of the functions have additional features, so please check out the overview & the protocol paper!\n",
        "\n",
        "This notebook illustrates how to use the cloud to:\n",
        "\n",
        "- load demo data\n",
        "- create a training set\n",
        "- train a network\n",
        "- evaluate a network\n",
        "- analyze a novel video"
      ]
    },
    {
      "cell_type": "markdown",
      "metadata": {
        "id": "txoddlM8hLKm"
      },
      "source": [
        "## Installation\n",
        "\n",
        "### First, go to \"Runtime\" ->\"change runtime type\"->select \"Python3\", and then select \"GPU\""
      ]
    },
    {
      "cell_type": "code",
      "execution_count": 2,
      "metadata": {
        "id": "Ew6r4hotoQjt",
        "colab": {
          "base_uri": "https://localhost:8080/"
        },
        "outputId": "49d69ed1-255e-438d-edc2-c5332efc53a1"
      },
      "outputs": [
        {
          "output_type": "stream",
          "name": "stdout",
          "text": [
            "Cloning into 'cloned-DLC-repo'...\n",
            "warning: --local is ignored\n",
            "remote: Enumerating objects: 24821, done.\u001b[K\n",
            "remote: Counting objects: 100% (2852/2852), done.\u001b[K\n",
            "remote: Compressing objects: 100% (967/967), done.\u001b[K\n",
            "remote: Total 24821 (delta 2423), reused 1900 (delta 1885), pack-reused 21969 (from 4)\u001b[K\n",
            "Receiving objects: 100% (24821/24821), 190.92 MiB | 37.00 MiB/s, done.\n",
            "Resolving deltas: 100% (17097/17097), done.\n",
            "/content/cloned-DLC-repo\n",
            "AUTHORS\t\t    CONTRIBUTING.md  docs\t pyproject.toml    setup.py\t      tools\n",
            "CODE_OF_CONDUCT.md  deeplabcut\t     examples\t README.md\t   tests\n",
            "conda-environments  dlc.py\t     LICENSE\t reinstall.sh\t   testscript_cli.py\n",
            "_config.yml\t    docker\t     NOTICE.yml  requirements.txt  _toc.yml\n"
          ]
        }
      ],
      "source": [
        "# Clone the entire deeplabcut repo so we can use the demo data:\n",
        "!git clone -l -s https://github.com/DeepLabCut/DeepLabCut.git cloned-DLC-repo\n",
        "%cd cloned-DLC-repo\n",
        "!ls"
      ]
    },
    {
      "cell_type": "code",
      "execution_count": 3,
      "metadata": {
        "id": "yDaY78dFoxyD",
        "colab": {
          "base_uri": "https://localhost:8080/"
        },
        "outputId": "5538d688-9e6e-47d9-d7f4-aad65af3558c"
      },
      "outputs": [
        {
          "output_type": "stream",
          "name": "stdout",
          "text": [
            "/content/cloned-DLC-repo/examples/openfield-Pranav-2018-10-30\n",
            "config.yaml  labeled-data  videos\n"
          ]
        }
      ],
      "source": [
        "%cd /content/cloned-DLC-repo/examples/openfield-Pranav-2018-10-30\n",
        "!ls"
      ]
    },
    {
      "cell_type": "code",
      "execution_count": 4,
      "metadata": {
        "id": "q23BzhA6CXxu",
        "colab": {
          "base_uri": "https://localhost:8080/",
          "height": 1000
        },
        "outputId": "5a8524c4-7fc9-4770-9015-925e9ca80ee8"
      },
      "outputs": [
        {
          "output_type": "stream",
          "name": "stdout",
          "text": [
            "/content/cloned-DLC-repo\n",
            "Processing /content/cloned-DLC-repo\n",
            "  Installing build dependencies ... \u001b[?25l\u001b[?25hdone\n",
            "  Getting requirements to build wheel ... \u001b[?25l\u001b[?25hdone\n",
            "  Preparing metadata (pyproject.toml) ... \u001b[?25l\u001b[?25hdone\n",
            "Collecting albumentations<=1.4.3 (from deeplabcut==3.0.0rc7)\n",
            "  Downloading albumentations-1.4.3-py3-none-any.whl.metadata (37 kB)\n",
            "Collecting dlclibrary>=0.0.7 (from deeplabcut==3.0.0rc7)\n",
            "  Downloading dlclibrary-0.0.7-py3-none-any.whl.metadata (4.2 kB)\n",
            "Requirement already satisfied: einops in /usr/local/lib/python3.11/dist-packages (from deeplabcut==3.0.0rc7) (0.8.1)\n",
            "Collecting filterpy>=1.4.4 (from deeplabcut==3.0.0rc7)\n",
            "  Downloading filterpy-1.4.5.zip (177 kB)\n",
            "\u001b[2K     \u001b[90m━━━━━━━━━━━━━━━━━━━━━━━━━━━━━━━━━━━━━━━━\u001b[0m \u001b[32m178.0/178.0 kB\u001b[0m \u001b[31m7.4 MB/s\u001b[0m eta \u001b[36m0:00:00\u001b[0m\n",
            "\u001b[?25h  Preparing metadata (setup.py) ... \u001b[?25l\u001b[?25hdone\n",
            "Collecting ruamel.yaml>=0.15.0 (from deeplabcut==3.0.0rc7)\n",
            "  Downloading ruamel.yaml-0.18.10-py3-none-any.whl.metadata (23 kB)\n",
            "Collecting imgaug>=0.4.0 (from deeplabcut==3.0.0rc7)\n",
            "  Downloading imgaug-0.4.0-py2.py3-none-any.whl.metadata (1.8 kB)\n",
            "Requirement already satisfied: imageio-ffmpeg in /usr/local/lib/python3.11/dist-packages (from deeplabcut==3.0.0rc7) (0.6.0)\n",
            "Requirement already satisfied: numba>=0.54 in /usr/local/lib/python3.11/dist-packages (from deeplabcut==3.0.0rc7) (0.60.0)\n",
            "Collecting matplotlib!=3.7.0,!=3.7.1,<3.9,>=3.3 (from deeplabcut==3.0.0rc7)\n",
            "  Downloading matplotlib-3.8.4-cp311-cp311-manylinux_2_17_x86_64.manylinux2014_x86_64.whl.metadata (5.8 kB)\n",
            "Requirement already satisfied: networkx>=2.6 in /usr/local/lib/python3.11/dist-packages (from deeplabcut==3.0.0rc7) (3.4.2)\n",
            "Collecting numpy<2.0.0,>=1.18.5 (from deeplabcut==3.0.0rc7)\n",
            "  Downloading numpy-1.26.4-cp311-cp311-manylinux_2_17_x86_64.manylinux2014_x86_64.whl.metadata (61 kB)\n",
            "\u001b[2K     \u001b[90m━━━━━━━━━━━━━━━━━━━━━━━━━━━━━━━━━━━━━━━━\u001b[0m \u001b[32m61.0/61.0 kB\u001b[0m \u001b[31m5.0 MB/s\u001b[0m eta \u001b[36m0:00:00\u001b[0m\n",
            "\u001b[?25hRequirement already satisfied: pandas!=1.5.0,>=1.0.1 in /usr/local/lib/python3.11/dist-packages (from deeplabcut==3.0.0rc7) (2.2.2)\n",
            "Requirement already satisfied: scikit-image>=0.17 in /usr/local/lib/python3.11/dist-packages (from deeplabcut==3.0.0rc7) (0.25.2)\n",
            "Requirement already satisfied: scikit-learn>=1.0 in /usr/local/lib/python3.11/dist-packages (from deeplabcut==3.0.0rc7) (1.6.1)\n",
            "Requirement already satisfied: scipy>=1.9 in /usr/local/lib/python3.11/dist-packages (from deeplabcut==3.0.0rc7) (1.14.1)\n",
            "Requirement already satisfied: statsmodels>=0.11 in /usr/local/lib/python3.11/dist-packages (from deeplabcut==3.0.0rc7) (0.14.4)\n",
            "Collecting tables==3.8.0 (from deeplabcut==3.0.0rc7)\n",
            "  Downloading tables-3.8.0-cp311-cp311-manylinux_2_17_x86_64.manylinux2014_x86_64.whl.metadata (2.2 kB)\n",
            "Requirement already satisfied: timm in /usr/local/lib/python3.11/dist-packages (from deeplabcut==3.0.0rc7) (1.0.15)\n",
            "Requirement already satisfied: torch>=2.0.0 in /usr/local/lib/python3.11/dist-packages (from deeplabcut==3.0.0rc7) (2.6.0+cu124)\n",
            "Requirement already satisfied: torchvision in /usr/local/lib/python3.11/dist-packages (from deeplabcut==3.0.0rc7) (0.21.0+cu124)\n",
            "Requirement already satisfied: tqdm in /usr/local/lib/python3.11/dist-packages (from deeplabcut==3.0.0rc7) (4.67.1)\n",
            "Requirement already satisfied: pycocotools in /usr/local/lib/python3.11/dist-packages (from deeplabcut==3.0.0rc7) (2.0.8)\n",
            "Requirement already satisfied: pyyaml in /usr/local/lib/python3.11/dist-packages (from deeplabcut==3.0.0rc7) (6.0.2)\n",
            "Requirement already satisfied: Pillow>=7.1 in /usr/local/lib/python3.11/dist-packages (from deeplabcut==3.0.0rc7) (11.1.0)\n",
            "Requirement already satisfied: cython>=0.29.21 in /usr/local/lib/python3.11/dist-packages (from tables==3.8.0->deeplabcut==3.0.0rc7) (3.0.12)\n",
            "Requirement already satisfied: numexpr>=2.6.2 in /usr/local/lib/python3.11/dist-packages (from tables==3.8.0->deeplabcut==3.0.0rc7) (2.10.2)\n",
            "Collecting blosc2~=2.0.0 (from tables==3.8.0->deeplabcut==3.0.0rc7)\n",
            "  Downloading blosc2-2.0.0-cp311-cp311-manylinux_2_17_x86_64.manylinux2014_x86_64.whl.metadata (11 kB)\n",
            "Requirement already satisfied: packaging in /usr/local/lib/python3.11/dist-packages (from tables==3.8.0->deeplabcut==3.0.0rc7) (24.2)\n",
            "Requirement already satisfied: py-cpuinfo in /usr/local/lib/python3.11/dist-packages (from tables==3.8.0->deeplabcut==3.0.0rc7) (9.0.0)\n",
            "Requirement already satisfied: typing-extensions>=4.9.0 in /usr/local/lib/python3.11/dist-packages (from albumentations<=1.4.3->deeplabcut==3.0.0rc7) (4.13.1)\n",
            "Requirement already satisfied: opencv-python-headless>=4.9.0 in /usr/local/lib/python3.11/dist-packages (from albumentations<=1.4.3->deeplabcut==3.0.0rc7) (4.11.0.86)\n",
            "Requirement already satisfied: huggingface-hub in /usr/local/lib/python3.11/dist-packages (from dlclibrary>=0.0.7->deeplabcut==3.0.0rc7) (0.30.1)\n",
            "Requirement already satisfied: six in /usr/local/lib/python3.11/dist-packages (from imgaug>=0.4.0->deeplabcut==3.0.0rc7) (1.17.0)\n",
            "Requirement already satisfied: opencv-python in /usr/local/lib/python3.11/dist-packages (from imgaug>=0.4.0->deeplabcut==3.0.0rc7) (4.11.0.86)\n",
            "Requirement already satisfied: imageio in /usr/local/lib/python3.11/dist-packages (from imgaug>=0.4.0->deeplabcut==3.0.0rc7) (2.37.0)\n",
            "Requirement already satisfied: Shapely in /usr/local/lib/python3.11/dist-packages (from imgaug>=0.4.0->deeplabcut==3.0.0rc7) (2.1.0)\n",
            "Requirement already satisfied: contourpy>=1.0.1 in /usr/local/lib/python3.11/dist-packages (from matplotlib!=3.7.0,!=3.7.1,<3.9,>=3.3->deeplabcut==3.0.0rc7) (1.3.1)\n",
            "Requirement already satisfied: cycler>=0.10 in /usr/local/lib/python3.11/dist-packages (from matplotlib!=3.7.0,!=3.7.1,<3.9,>=3.3->deeplabcut==3.0.0rc7) (0.12.1)\n",
            "Requirement already satisfied: fonttools>=4.22.0 in /usr/local/lib/python3.11/dist-packages (from matplotlib!=3.7.0,!=3.7.1,<3.9,>=3.3->deeplabcut==3.0.0rc7) (4.57.0)\n",
            "Requirement already satisfied: kiwisolver>=1.3.1 in /usr/local/lib/python3.11/dist-packages (from matplotlib!=3.7.0,!=3.7.1,<3.9,>=3.3->deeplabcut==3.0.0rc7) (1.4.8)\n",
            "Requirement already satisfied: pyparsing>=2.3.1 in /usr/local/lib/python3.11/dist-packages (from matplotlib!=3.7.0,!=3.7.1,<3.9,>=3.3->deeplabcut==3.0.0rc7) (3.2.3)\n",
            "Requirement already satisfied: python-dateutil>=2.7 in /usr/local/lib/python3.11/dist-packages (from matplotlib!=3.7.0,!=3.7.1,<3.9,>=3.3->deeplabcut==3.0.0rc7) (2.8.2)\n",
            "Requirement already satisfied: llvmlite<0.44,>=0.43.0dev0 in /usr/local/lib/python3.11/dist-packages (from numba>=0.54->deeplabcut==3.0.0rc7) (0.43.0)\n",
            "Requirement already satisfied: pytz>=2020.1 in /usr/local/lib/python3.11/dist-packages (from pandas!=1.5.0,>=1.0.1->deeplabcut==3.0.0rc7) (2025.2)\n",
            "Requirement already satisfied: tzdata>=2022.7 in /usr/local/lib/python3.11/dist-packages (from pandas!=1.5.0,>=1.0.1->deeplabcut==3.0.0rc7) (2025.2)\n",
            "Collecting ruamel.yaml.clib>=0.2.7 (from ruamel.yaml>=0.15.0->deeplabcut==3.0.0rc7)\n",
            "  Downloading ruamel.yaml.clib-0.2.12-cp311-cp311-manylinux_2_17_x86_64.manylinux2014_x86_64.whl.metadata (2.7 kB)\n",
            "Requirement already satisfied: tifffile>=2022.8.12 in /usr/local/lib/python3.11/dist-packages (from scikit-image>=0.17->deeplabcut==3.0.0rc7) (2025.3.30)\n",
            "Requirement already satisfied: lazy-loader>=0.4 in /usr/local/lib/python3.11/dist-packages (from scikit-image>=0.17->deeplabcut==3.0.0rc7) (0.4)\n",
            "Requirement already satisfied: joblib>=1.2.0 in /usr/local/lib/python3.11/dist-packages (from scikit-learn>=1.0->deeplabcut==3.0.0rc7) (1.4.2)\n",
            "Requirement already satisfied: threadpoolctl>=3.1.0 in /usr/local/lib/python3.11/dist-packages (from scikit-learn>=1.0->deeplabcut==3.0.0rc7) (3.6.0)\n",
            "Requirement already satisfied: patsy>=0.5.6 in /usr/local/lib/python3.11/dist-packages (from statsmodels>=0.11->deeplabcut==3.0.0rc7) (1.0.1)\n",
            "Requirement already satisfied: filelock in /usr/local/lib/python3.11/dist-packages (from torch>=2.0.0->deeplabcut==3.0.0rc7) (3.18.0)\n",
            "Requirement already satisfied: jinja2 in /usr/local/lib/python3.11/dist-packages (from torch>=2.0.0->deeplabcut==3.0.0rc7) (3.1.6)\n",
            "Requirement already satisfied: fsspec in /usr/local/lib/python3.11/dist-packages (from torch>=2.0.0->deeplabcut==3.0.0rc7) (2025.3.2)\n",
            "Collecting nvidia-cuda-nvrtc-cu12==12.4.127 (from torch>=2.0.0->deeplabcut==3.0.0rc7)\n",
            "  Downloading nvidia_cuda_nvrtc_cu12-12.4.127-py3-none-manylinux2014_x86_64.whl.metadata (1.5 kB)\n",
            "Collecting nvidia-cuda-runtime-cu12==12.4.127 (from torch>=2.0.0->deeplabcut==3.0.0rc7)\n",
            "  Downloading nvidia_cuda_runtime_cu12-12.4.127-py3-none-manylinux2014_x86_64.whl.metadata (1.5 kB)\n",
            "Collecting nvidia-cuda-cupti-cu12==12.4.127 (from torch>=2.0.0->deeplabcut==3.0.0rc7)\n",
            "  Downloading nvidia_cuda_cupti_cu12-12.4.127-py3-none-manylinux2014_x86_64.whl.metadata (1.6 kB)\n",
            "Collecting nvidia-cudnn-cu12==9.1.0.70 (from torch>=2.0.0->deeplabcut==3.0.0rc7)\n",
            "  Downloading nvidia_cudnn_cu12-9.1.0.70-py3-none-manylinux2014_x86_64.whl.metadata (1.6 kB)\n",
            "Collecting nvidia-cublas-cu12==12.4.5.8 (from torch>=2.0.0->deeplabcut==3.0.0rc7)\n",
            "  Downloading nvidia_cublas_cu12-12.4.5.8-py3-none-manylinux2014_x86_64.whl.metadata (1.5 kB)\n",
            "Collecting nvidia-cufft-cu12==11.2.1.3 (from torch>=2.0.0->deeplabcut==3.0.0rc7)\n",
            "  Downloading nvidia_cufft_cu12-11.2.1.3-py3-none-manylinux2014_x86_64.whl.metadata (1.5 kB)\n",
            "Collecting nvidia-curand-cu12==10.3.5.147 (from torch>=2.0.0->deeplabcut==3.0.0rc7)\n",
            "  Downloading nvidia_curand_cu12-10.3.5.147-py3-none-manylinux2014_x86_64.whl.metadata (1.5 kB)\n",
            "Collecting nvidia-cusolver-cu12==11.6.1.9 (from torch>=2.0.0->deeplabcut==3.0.0rc7)\n",
            "  Downloading nvidia_cusolver_cu12-11.6.1.9-py3-none-manylinux2014_x86_64.whl.metadata (1.6 kB)\n",
            "Collecting nvidia-cusparse-cu12==12.3.1.170 (from torch>=2.0.0->deeplabcut==3.0.0rc7)\n",
            "  Downloading nvidia_cusparse_cu12-12.3.1.170-py3-none-manylinux2014_x86_64.whl.metadata (1.6 kB)\n",
            "Requirement already satisfied: nvidia-cusparselt-cu12==0.6.2 in /usr/local/lib/python3.11/dist-packages (from torch>=2.0.0->deeplabcut==3.0.0rc7) (0.6.2)\n",
            "Requirement already satisfied: nvidia-nccl-cu12==2.21.5 in /usr/local/lib/python3.11/dist-packages (from torch>=2.0.0->deeplabcut==3.0.0rc7) (2.21.5)\n",
            "Requirement already satisfied: nvidia-nvtx-cu12==12.4.127 in /usr/local/lib/python3.11/dist-packages (from torch>=2.0.0->deeplabcut==3.0.0rc7) (12.4.127)\n",
            "Collecting nvidia-nvjitlink-cu12==12.4.127 (from torch>=2.0.0->deeplabcut==3.0.0rc7)\n",
            "  Downloading nvidia_nvjitlink_cu12-12.4.127-py3-none-manylinux2014_x86_64.whl.metadata (1.5 kB)\n",
            "Requirement already satisfied: triton==3.2.0 in /usr/local/lib/python3.11/dist-packages (from torch>=2.0.0->deeplabcut==3.0.0rc7) (3.2.0)\n",
            "Requirement already satisfied: sympy==1.13.1 in /usr/local/lib/python3.11/dist-packages (from torch>=2.0.0->deeplabcut==3.0.0rc7) (1.13.1)\n",
            "Requirement already satisfied: mpmath<1.4,>=1.1.0 in /usr/local/lib/python3.11/dist-packages (from sympy==1.13.1->torch>=2.0.0->deeplabcut==3.0.0rc7) (1.3.0)\n",
            "Requirement already satisfied: safetensors in /usr/local/lib/python3.11/dist-packages (from timm->deeplabcut==3.0.0rc7) (0.5.3)\n",
            "Requirement already satisfied: msgpack in /usr/local/lib/python3.11/dist-packages (from blosc2~=2.0.0->tables==3.8.0->deeplabcut==3.0.0rc7) (1.1.0)\n",
            "Requirement already satisfied: requests in /usr/local/lib/python3.11/dist-packages (from huggingface-hub->dlclibrary>=0.0.7->deeplabcut==3.0.0rc7) (2.32.3)\n",
            "Requirement already satisfied: MarkupSafe>=2.0 in /usr/local/lib/python3.11/dist-packages (from jinja2->torch>=2.0.0->deeplabcut==3.0.0rc7) (3.0.2)\n",
            "Requirement already satisfied: charset-normalizer<4,>=2 in /usr/local/lib/python3.11/dist-packages (from requests->huggingface-hub->dlclibrary>=0.0.7->deeplabcut==3.0.0rc7) (3.4.1)\n",
            "Requirement already satisfied: idna<4,>=2.5 in /usr/local/lib/python3.11/dist-packages (from requests->huggingface-hub->dlclibrary>=0.0.7->deeplabcut==3.0.0rc7) (3.10)\n",
            "Requirement already satisfied: urllib3<3,>=1.21.1 in /usr/local/lib/python3.11/dist-packages (from requests->huggingface-hub->dlclibrary>=0.0.7->deeplabcut==3.0.0rc7) (2.3.0)\n",
            "Requirement already satisfied: certifi>=2017.4.17 in /usr/local/lib/python3.11/dist-packages (from requests->huggingface-hub->dlclibrary>=0.0.7->deeplabcut==3.0.0rc7) (2025.1.31)\n",
            "Downloading tables-3.8.0-cp311-cp311-manylinux_2_17_x86_64.manylinux2014_x86_64.whl (6.5 MB)\n",
            "\u001b[2K   \u001b[90m━━━━━━━━━━━━━━━━━━━━━━━━━━━━━━━━━━━━━━━━\u001b[0m \u001b[32m6.5/6.5 MB\u001b[0m \u001b[31m85.7 MB/s\u001b[0m eta \u001b[36m0:00:00\u001b[0m\n",
            "\u001b[?25hDownloading albumentations-1.4.3-py3-none-any.whl (137 kB)\n",
            "\u001b[2K   \u001b[90m━━━━━━━━━━━━━━━━━━━━━━━━━━━━━━━━━━━━━━━━\u001b[0m \u001b[32m137.0/137.0 kB\u001b[0m \u001b[31m13.7 MB/s\u001b[0m eta \u001b[36m0:00:00\u001b[0m\n",
            "\u001b[?25hDownloading dlclibrary-0.0.7-py3-none-any.whl (16 kB)\n",
            "Downloading imgaug-0.4.0-py2.py3-none-any.whl (948 kB)\n",
            "\u001b[2K   \u001b[90m━━━━━━━━━━━━━━━━━━━━━━━━━━━━━━━━━━━━━━━━\u001b[0m \u001b[32m948.0/948.0 kB\u001b[0m \u001b[31m57.6 MB/s\u001b[0m eta \u001b[36m0:00:00\u001b[0m\n",
            "\u001b[?25hDownloading matplotlib-3.8.4-cp311-cp311-manylinux_2_17_x86_64.manylinux2014_x86_64.whl (11.6 MB)\n",
            "\u001b[2K   \u001b[90m━━━━━━━━━━━━━━━━━━━━━━━━━━━━━━━━━━━━━━━━\u001b[0m \u001b[32m11.6/11.6 MB\u001b[0m \u001b[31m112.4 MB/s\u001b[0m eta \u001b[36m0:00:00\u001b[0m\n",
            "\u001b[?25hDownloading numpy-1.26.4-cp311-cp311-manylinux_2_17_x86_64.manylinux2014_x86_64.whl (18.3 MB)\n",
            "\u001b[2K   \u001b[90m━━━━━━━━━━━━━━━━━━━━━━━━━━━━━━━━━━━━━━━━\u001b[0m \u001b[32m18.3/18.3 MB\u001b[0m \u001b[31m99.2 MB/s\u001b[0m eta \u001b[36m0:00:00\u001b[0m\n",
            "\u001b[?25hDownloading ruamel.yaml-0.18.10-py3-none-any.whl (117 kB)\n",
            "\u001b[2K   \u001b[90m━━━━━━━━━━━━━━━━━━━━━━━━━━━━━━━━━━━━━━━━\u001b[0m \u001b[32m117.7/117.7 kB\u001b[0m \u001b[31m11.7 MB/s\u001b[0m eta \u001b[36m0:00:00\u001b[0m\n",
            "\u001b[?25hDownloading nvidia_cublas_cu12-12.4.5.8-py3-none-manylinux2014_x86_64.whl (363.4 MB)\n",
            "\u001b[2K   \u001b[90m━━━━━━━━━━━━━━━━━━━━━━━━━━━━━━━━━━━━━━━━\u001b[0m \u001b[32m363.4/363.4 MB\u001b[0m \u001b[31m1.4 MB/s\u001b[0m eta \u001b[36m0:00:00\u001b[0m\n",
            "\u001b[?25hDownloading nvidia_cuda_cupti_cu12-12.4.127-py3-none-manylinux2014_x86_64.whl (13.8 MB)\n",
            "\u001b[2K   \u001b[90m━━━━━━━━━━━━━━━━━━━━━━━━━━━━━━━━━━━━━━━━\u001b[0m \u001b[32m13.8/13.8 MB\u001b[0m \u001b[31m111.5 MB/s\u001b[0m eta \u001b[36m0:00:00\u001b[0m\n",
            "\u001b[?25hDownloading nvidia_cuda_nvrtc_cu12-12.4.127-py3-none-manylinux2014_x86_64.whl (24.6 MB)\n",
            "\u001b[2K   \u001b[90m━━━━━━━━━━━━━━━━━━━━━━━━━━━━━━━━━━━━━━━━\u001b[0m \u001b[32m24.6/24.6 MB\u001b[0m \u001b[31m61.1 MB/s\u001b[0m eta \u001b[36m0:00:00\u001b[0m\n",
            "\u001b[?25hDownloading nvidia_cuda_runtime_cu12-12.4.127-py3-none-manylinux2014_x86_64.whl (883 kB)\n",
            "\u001b[2K   \u001b[90m━━━━━━━━━━━━━━━━━━━━━━━━━━━━━━━━━━━━━━━━\u001b[0m \u001b[32m883.7/883.7 kB\u001b[0m \u001b[31m47.8 MB/s\u001b[0m eta \u001b[36m0:00:00\u001b[0m\n",
            "\u001b[?25hDownloading nvidia_cudnn_cu12-9.1.0.70-py3-none-manylinux2014_x86_64.whl (664.8 MB)\n",
            "\u001b[2K   \u001b[90m━━━━━━━━━━━━━━━━━━━━━━━━━━━━━━━━━━━━━━━━\u001b[0m \u001b[32m664.8/664.8 MB\u001b[0m \u001b[31m1.9 MB/s\u001b[0m eta \u001b[36m0:00:00\u001b[0m\n",
            "\u001b[?25hDownloading nvidia_cufft_cu12-11.2.1.3-py3-none-manylinux2014_x86_64.whl (211.5 MB)\n",
            "\u001b[2K   \u001b[90m━━━━━━━━━━━━━━━━━━━━━━━━━━━━━━━━━━━━━━━━\u001b[0m \u001b[32m211.5/211.5 MB\u001b[0m \u001b[31m5.3 MB/s\u001b[0m eta \u001b[36m0:00:00\u001b[0m\n",
            "\u001b[?25hDownloading nvidia_curand_cu12-10.3.5.147-py3-none-manylinux2014_x86_64.whl (56.3 MB)\n",
            "\u001b[2K   \u001b[90m━━━━━━━━━━━━━━━━━━━━━━━━━━━━━━━━━━━━━━━━\u001b[0m \u001b[32m56.3/56.3 MB\u001b[0m \u001b[31m16.4 MB/s\u001b[0m eta \u001b[36m0:00:00\u001b[0m\n",
            "\u001b[?25hDownloading nvidia_cusolver_cu12-11.6.1.9-py3-none-manylinux2014_x86_64.whl (127.9 MB)\n",
            "\u001b[2K   \u001b[90m━━━━━━━━━━━━━━━━━━━━━━━━━━━━━━━━━━━━━━━━\u001b[0m \u001b[32m127.9/127.9 MB\u001b[0m \u001b[31m7.1 MB/s\u001b[0m eta \u001b[36m0:00:00\u001b[0m\n",
            "\u001b[?25hDownloading nvidia_cusparse_cu12-12.3.1.170-py3-none-manylinux2014_x86_64.whl (207.5 MB)\n",
            "\u001b[2K   \u001b[90m━━━━━━━━━━━━━━━━━━━━━━━━━━━━━━━━━━━━━━━━\u001b[0m \u001b[32m207.5/207.5 MB\u001b[0m \u001b[31m5.7 MB/s\u001b[0m eta \u001b[36m0:00:00\u001b[0m\n",
            "\u001b[?25hDownloading nvidia_nvjitlink_cu12-12.4.127-py3-none-manylinux2014_x86_64.whl (21.1 MB)\n",
            "\u001b[2K   \u001b[90m━━━━━━━━━━━━━━━━━━━━━━━━━━━━━━━━━━━━━━━━\u001b[0m \u001b[32m21.1/21.1 MB\u001b[0m \u001b[31m90.4 MB/s\u001b[0m eta \u001b[36m0:00:00\u001b[0m\n",
            "\u001b[?25hDownloading blosc2-2.0.0-cp311-cp311-manylinux_2_17_x86_64.manylinux2014_x86_64.whl (3.9 MB)\n",
            "\u001b[2K   \u001b[90m━━━━━━━━━━━━━━━━━━━━━━━━━━━━━━━━━━━━━━━━\u001b[0m \u001b[32m3.9/3.9 MB\u001b[0m \u001b[31m85.1 MB/s\u001b[0m eta \u001b[36m0:00:00\u001b[0m\n",
            "\u001b[?25hDownloading ruamel.yaml.clib-0.2.12-cp311-cp311-manylinux_2_17_x86_64.manylinux2014_x86_64.whl (739 kB)\n",
            "\u001b[2K   \u001b[90m━━━━━━━━━━━━━━━━━━━━━━━━━━━━━━━━━━━━━━━━\u001b[0m \u001b[32m739.1/739.1 kB\u001b[0m \u001b[31m54.6 MB/s\u001b[0m eta \u001b[36m0:00:00\u001b[0m\n",
            "\u001b[?25hBuilding wheels for collected packages: deeplabcut, filterpy\n",
            "  Building wheel for deeplabcut (pyproject.toml) ... \u001b[?25l\u001b[?25hdone\n",
            "  Created wheel for deeplabcut: filename=deeplabcut-3.0.0rc7-py3-none-any.whl size=2088033 sha256=545287a1c77e269a4d1a1835b67341ae46bdacfa94fcaed83c0807816db5e694\n",
            "  Stored in directory: /root/.cache/pip/wheels/c2/3a/f9/a9c6d9217bb3a8d45f28bb0f8398ccf6f9b2908a31c788f160\n",
            "  Building wheel for filterpy (setup.py) ... \u001b[?25l\u001b[?25hdone\n",
            "  Created wheel for filterpy: filename=filterpy-1.4.5-py3-none-any.whl size=110460 sha256=35dcb763980caf8ac733682a07b41c83b5fb5d8c82ed91579cfda812213b90ef\n",
            "  Stored in directory: /root/.cache/pip/wheels/12/dc/3c/e12983eac132d00f82a20c6cbe7b42ce6e96190ef8fa2d15e1\n",
            "Successfully built deeplabcut filterpy\n",
            "Installing collected packages: ruamel.yaml.clib, nvidia-nvjitlink-cu12, nvidia-curand-cu12, nvidia-cufft-cu12, nvidia-cuda-runtime-cu12, nvidia-cuda-nvrtc-cu12, nvidia-cuda-cupti-cu12, nvidia-cublas-cu12, numpy, blosc2, ruamel.yaml, nvidia-cusparse-cu12, nvidia-cudnn-cu12, tables, nvidia-cusolver-cu12, matplotlib, dlclibrary, imgaug, filterpy, albumentations, deeplabcut\n",
            "  Attempting uninstall: nvidia-nvjitlink-cu12\n",
            "    Found existing installation: nvidia-nvjitlink-cu12 12.5.82\n",
            "    Uninstalling nvidia-nvjitlink-cu12-12.5.82:\n",
            "      Successfully uninstalled nvidia-nvjitlink-cu12-12.5.82\n",
            "  Attempting uninstall: nvidia-curand-cu12\n",
            "    Found existing installation: nvidia-curand-cu12 10.3.6.82\n",
            "    Uninstalling nvidia-curand-cu12-10.3.6.82:\n",
            "      Successfully uninstalled nvidia-curand-cu12-10.3.6.82\n",
            "  Attempting uninstall: nvidia-cufft-cu12\n",
            "    Found existing installation: nvidia-cufft-cu12 11.2.3.61\n",
            "    Uninstalling nvidia-cufft-cu12-11.2.3.61:\n",
            "      Successfully uninstalled nvidia-cufft-cu12-11.2.3.61\n",
            "  Attempting uninstall: nvidia-cuda-runtime-cu12\n",
            "    Found existing installation: nvidia-cuda-runtime-cu12 12.5.82\n",
            "    Uninstalling nvidia-cuda-runtime-cu12-12.5.82:\n",
            "      Successfully uninstalled nvidia-cuda-runtime-cu12-12.5.82\n",
            "  Attempting uninstall: nvidia-cuda-nvrtc-cu12\n",
            "    Found existing installation: nvidia-cuda-nvrtc-cu12 12.5.82\n",
            "    Uninstalling nvidia-cuda-nvrtc-cu12-12.5.82:\n",
            "      Successfully uninstalled nvidia-cuda-nvrtc-cu12-12.5.82\n",
            "  Attempting uninstall: nvidia-cuda-cupti-cu12\n",
            "    Found existing installation: nvidia-cuda-cupti-cu12 12.5.82\n",
            "    Uninstalling nvidia-cuda-cupti-cu12-12.5.82:\n",
            "      Successfully uninstalled nvidia-cuda-cupti-cu12-12.5.82\n",
            "  Attempting uninstall: nvidia-cublas-cu12\n",
            "    Found existing installation: nvidia-cublas-cu12 12.5.3.2\n",
            "    Uninstalling nvidia-cublas-cu12-12.5.3.2:\n",
            "      Successfully uninstalled nvidia-cublas-cu12-12.5.3.2\n",
            "  Attempting uninstall: numpy\n",
            "    Found existing installation: numpy 2.0.2\n",
            "    Uninstalling numpy-2.0.2:\n",
            "      Successfully uninstalled numpy-2.0.2\n",
            "  Attempting uninstall: blosc2\n",
            "    Found existing installation: blosc2 3.2.1\n",
            "    Uninstalling blosc2-3.2.1:\n",
            "      Successfully uninstalled blosc2-3.2.1\n",
            "  Attempting uninstall: nvidia-cusparse-cu12\n",
            "    Found existing installation: nvidia-cusparse-cu12 12.5.1.3\n",
            "    Uninstalling nvidia-cusparse-cu12-12.5.1.3:\n",
            "      Successfully uninstalled nvidia-cusparse-cu12-12.5.1.3\n",
            "  Attempting uninstall: nvidia-cudnn-cu12\n",
            "    Found existing installation: nvidia-cudnn-cu12 9.3.0.75\n",
            "    Uninstalling nvidia-cudnn-cu12-9.3.0.75:\n",
            "      Successfully uninstalled nvidia-cudnn-cu12-9.3.0.75\n",
            "  Attempting uninstall: tables\n",
            "    Found existing installation: tables 3.10.2\n",
            "    Uninstalling tables-3.10.2:\n",
            "      Successfully uninstalled tables-3.10.2\n",
            "  Attempting uninstall: nvidia-cusolver-cu12\n",
            "    Found existing installation: nvidia-cusolver-cu12 11.6.3.83\n",
            "    Uninstalling nvidia-cusolver-cu12-11.6.3.83:\n",
            "      Successfully uninstalled nvidia-cusolver-cu12-11.6.3.83\n",
            "  Attempting uninstall: matplotlib\n",
            "    Found existing installation: matplotlib 3.10.0\n",
            "    Uninstalling matplotlib-3.10.0:\n",
            "      Successfully uninstalled matplotlib-3.10.0\n",
            "  Attempting uninstall: albumentations\n",
            "    Found existing installation: albumentations 2.0.5\n",
            "    Uninstalling albumentations-2.0.5:\n",
            "      Successfully uninstalled albumentations-2.0.5\n",
            "Successfully installed albumentations-1.4.3 blosc2-2.0.0 deeplabcut-3.0.0rc7 dlclibrary-0.0.7 filterpy-1.4.5 imgaug-0.4.0 matplotlib-3.8.4 numpy-1.26.4 nvidia-cublas-cu12-12.4.5.8 nvidia-cuda-cupti-cu12-12.4.127 nvidia-cuda-nvrtc-cu12-12.4.127 nvidia-cuda-runtime-cu12-12.4.127 nvidia-cudnn-cu12-9.1.0.70 nvidia-cufft-cu12-11.2.1.3 nvidia-curand-cu12-10.3.5.147 nvidia-cusolver-cu12-11.6.1.9 nvidia-cusparse-cu12-12.3.1.170 nvidia-nvjitlink-cu12-12.4.127 ruamel.yaml-0.18.10 ruamel.yaml.clib-0.2.12 tables-3.8.0\n"
          ]
        },
        {
          "output_type": "display_data",
          "data": {
            "application/vnd.colab-display-data+json": {
              "pip_warning": {
                "packages": [
                  "matplotlib",
                  "mpl_toolkits"
                ]
              },
              "id": "7ce4946411b244f6998483d16096f947"
            }
          },
          "metadata": {}
        }
      ],
      "source": [
        "# Install the latest DeepLabCut version (this will take a few minutes to install all the dependencies!)\n",
        "%cd /content/cloned-DLC-repo/\n",
        "%pip install \".\""
      ]
    },
    {
      "cell_type": "markdown",
      "metadata": {
        "id": "XymV_Hnlp1OJ"
      },
      "source": [
        "### PLEASE, click \"restart runtime\" from the output above before proceeding!"
      ]
    },
    {
      "cell_type": "code",
      "execution_count": 1,
      "metadata": {
        "id": "sXufoX6INe6w",
        "colab": {
          "base_uri": "https://localhost:8080/"
        },
        "outputId": "03e0ed61-d467-428a-fbeb-382449c1167f"
      },
      "outputs": [
        {
          "output_type": "stream",
          "name": "stdout",
          "text": [
            "Loading DLC 3.0.0rc7...\n",
            "DLC loaded in light mode; you cannot use any GUI (labeling, relabeling and standalone GUI)\n"
          ]
        }
      ],
      "source": [
        "import deeplabcut"
      ]
    },
    {
      "cell_type": "code",
      "execution_count": 2,
      "metadata": {
        "id": "Z7ZlDr3wV4D1",
        "colab": {
          "base_uri": "https://localhost:8080/"
        },
        "outputId": "9478ab4b-7541-4425-afd3-4bf7e0e63224"
      },
      "outputs": [
        {
          "output_type": "stream",
          "name": "stdout",
          "text": [
            "Loaded, now creating training data...\n"
          ]
        }
      ],
      "source": [
        "# Create a path variable that links to the config file:\n",
        "path_config_file = '/content/cloned-DLC-repo/examples/openfield-Pranav-2018-10-30/config.yaml'\n",
        "\n",
        "# Loading example data set:\n",
        "deeplabcut.load_demo_data(path_config_file)"
      ]
    },
    {
      "cell_type": "markdown",
      "metadata": {
        "id": "c4FczXGDoEJU"
      },
      "source": [
        "## Start training:\n",
        "This function trains the network for a specific shuffle of the training dataset."
      ]
    },
    {
      "cell_type": "code",
      "execution_count": 3,
      "metadata": {
        "id": "_pOvDq_2oEJW",
        "colab": {
          "base_uri": "https://localhost:8080/",
          "height": 1000,
          "referenced_widgets": [
            "4a0814500e4548fb9ca275f0a28566de",
            "1de0f83362844fa296de1eee35bdbc94",
            "93ed4ed6ba7a48bd836c169e2f08afb7",
            "0488c585c33440ef9f785943320db8a3",
            "ff76a81ea94b40dfa2d778545ee39c6a",
            "98282b86b49a43b1ad37fe75fb6bc31f",
            "aa4e934175d1450c9d55df3003af1f29",
            "73acb0cff0c44a6281b1fa8a16f23354",
            "af680e244ea34378bd28c7d533e80b98",
            "4038c0ebd6f841dca23fa343a7d16493",
            "2bc3e874304e4e0987ada5cf453e8263"
          ]
        },
        "outputId": "98bf7585-c1cf-4292-ef46-8881e82b92c7"
      },
      "outputs": [
        {
          "output_type": "stream",
          "name": "stderr",
          "text": [
            "Training with configuration:\n",
            "data:\n",
            "  bbox_margin: 20\n",
            "  colormode: RGB\n",
            "  inference:\n",
            "    normalize_images: True\n",
            "  train:\n",
            "    affine:\n",
            "      p: 0.5\n",
            "      rotation: 30\n",
            "      scaling: [0.5, 1.25]\n",
            "      translation: 0\n",
            "    covering: False\n",
            "    crop_sampling:\n",
            "      width: 448\n",
            "      height: 448\n",
            "      max_shift: 0.1\n",
            "      method: hybrid\n",
            "    gaussian_noise: 12.75\n",
            "    hist_eq: False\n",
            "    motion_blur: False\n",
            "    normalize_images: True\n",
            "device: auto\n",
            "metadata:\n",
            "  project_path: /content/cloned-DLC-repo/examples/openfield-Pranav-2018-10-30\n",
            "  pose_config_path: /content/cloned-DLC-repo/examples/openfield-Pranav-2018-10-30/dlc-models-pytorch/iteration-0/openfieldOct30-trainset95shuffle1/train/pytorch_config.yaml\n",
            "  bodyparts: ['snout', 'leftear', 'rightear', 'tailbase']\n",
            "  unique_bodyparts: []\n",
            "  individuals: ['animal']\n",
            "  with_identity: None\n",
            "method: bu\n",
            "model:\n",
            "  backbone:\n",
            "    type: ResNet\n",
            "    model_name: resnet50_gn\n",
            "    output_stride: 16\n",
            "    freeze_bn_stats: False\n",
            "    freeze_bn_weights: False\n",
            "  backbone_output_channels: 2048\n",
            "  heads:\n",
            "    bodypart:\n",
            "      type: HeatmapHead\n",
            "      weight_init: normal\n",
            "      predictor:\n",
            "        type: HeatmapPredictor\n",
            "        apply_sigmoid: False\n",
            "        clip_scores: True\n",
            "        location_refinement: True\n",
            "        locref_std: 7.2801\n",
            "      target_generator:\n",
            "        type: HeatmapGaussianGenerator\n",
            "        num_heatmaps: 4\n",
            "        pos_dist_thresh: 17\n",
            "        heatmap_mode: KEYPOINT\n",
            "        gradient_masking: False\n",
            "        generate_locref: True\n",
            "        locref_std: 7.2801\n",
            "      criterion:\n",
            "        heatmap:\n",
            "          type: WeightedMSECriterion\n",
            "          weight: 1.0\n",
            "        locref:\n",
            "          type: WeightedHuberCriterion\n",
            "          weight: 0.05\n",
            "      heatmap_config:\n",
            "        channels: [2048, 4]\n",
            "        kernel_size: [3]\n",
            "        strides: [2]\n",
            "      locref_config:\n",
            "        channels: [2048, 8]\n",
            "        kernel_size: [3]\n",
            "        strides: [2]\n",
            "net_type: resnet_50\n",
            "runner:\n",
            "  type: PoseTrainingRunner\n",
            "  gpus: None\n",
            "  key_metric: test.mAP\n",
            "  key_metric_asc: True\n",
            "  eval_interval: 10\n",
            "  optimizer:\n",
            "    type: AdamW\n",
            "    params:\n",
            "      lr: 0.001\n",
            "  scheduler:\n",
            "    type: LRListScheduler\n",
            "    params:\n",
            "      lr_list: [[0.0001], [1e-05]]\n",
            "      milestones: [90, 120]\n",
            "  snapshots:\n",
            "    max_snapshots: 5\n",
            "    save_epochs: 5\n",
            "    save_optimizer_state: False\n",
            "train_settings:\n",
            "  batch_size: 8\n",
            "  dataloader_workers: 0\n",
            "  dataloader_pin_memory: False\n",
            "  display_iters: 500\n",
            "  epochs: 200\n",
            "  seed: 42\n",
            "Loading pretrained weights from Hugging Face hub (timm/resnet50_gn.a1h_in1k)\n",
            "/usr/local/lib/python3.11/dist-packages/huggingface_hub/utils/_auth.py:94: UserWarning: \n",
            "The secret `HF_TOKEN` does not exist in your Colab secrets.\n",
            "To authenticate with the Hugging Face Hub, create a token in your settings tab (https://huggingface.co/settings/tokens), set it as secret in your Google Colab and restart your session.\n",
            "You will be able to reuse this secret in all of your notebooks.\n",
            "Please note that authentication is recommended but still optional to access public models or datasets.\n",
            "  warnings.warn(\n"
          ]
        },
        {
          "output_type": "display_data",
          "data": {
            "text/plain": [
              "model.safetensors:   0%|          | 0.00/102M [00:00<?, ?B/s]"
            ],
            "application/vnd.jupyter.widget-view+json": {
              "version_major": 2,
              "version_minor": 0,
              "model_id": "4a0814500e4548fb9ca275f0a28566de"
            }
          },
          "metadata": {}
        },
        {
          "output_type": "stream",
          "name": "stderr",
          "text": [
            "[timm/resnet50_gn.a1h_in1k] Safe alternative available for 'pytorch_model.bin' (as 'model.safetensors'). Loading weights using safetensors.\n",
            "Data Transforms:\n",
            "  Training:   Compose([\n",
            "  Affine(always_apply=False, p=0.5, interpolation=1, mask_interpolation=0, cval=0, mode=0, scale={'x': (0.5, 1.25), 'y': (0.5, 1.25)}, translate_percent=None, translate_px={'x': (0, 0), 'y': (0, 0)}, rotate=(-30, 30), fit_output=False, shear={'x': (0.0, 0.0), 'y': (0.0, 0.0)}, cval_mask=0, keep_ratio=True, rotate_method='largest_box'),\n",
            "  PadIfNeeded(always_apply=True, p=1.0, min_height=448, min_width=448, pad_height_divisor=None, pad_width_divisor=None, position=PositionType.CENTER, border_mode=0, value=None, mask_value=None),\n",
            "  KeypointAwareCrop(always_apply=True, p=1.0, width=448, height=448, max_shift=0.1, crop_sampling='hybrid'),\n",
            "  GaussNoise(always_apply=False, p=0.5, var_limit=(0, 162.5625), per_channel=True, mean=0),\n",
            "  Normalize(always_apply=False, p=1.0, mean=[0.485, 0.456, 0.406], std=[0.229, 0.224, 0.225], max_pixel_value=255.0),\n",
            "], p=1.0, bbox_params={'format': 'coco', 'label_fields': ['bbox_labels'], 'min_area': 0.0, 'min_visibility': 0.0, 'min_width': 0.0, 'min_height': 0.0, 'check_each_transform': True}, keypoint_params={'format': 'xy', 'label_fields': ['class_labels'], 'remove_invisible': False, 'angle_in_degrees': True, 'check_each_transform': True}, additional_targets={}, is_check_shapes=True)\n",
            "  Validation: Compose([\n",
            "  Normalize(always_apply=False, p=1.0, mean=[0.485, 0.456, 0.406], std=[0.229, 0.224, 0.225], max_pixel_value=255.0),\n",
            "], p=1.0, bbox_params={'format': 'coco', 'label_fields': ['bbox_labels'], 'min_area': 0.0, 'min_visibility': 0.0, 'min_width': 0.0, 'min_height': 0.0, 'check_each_transform': True}, keypoint_params={'format': 'xy', 'label_fields': ['class_labels'], 'remove_invisible': False, 'angle_in_degrees': True, 'check_each_transform': True}, additional_targets={}, is_check_shapes=True)\n",
            "Using 110 images and 6 for testing\n",
            "\n",
            "Starting pose model training...\n",
            "--------------------------------------------------\n",
            "Epoch 1/200 (lr=0.001), train loss 0.01606\n",
            "Epoch 2/200 (lr=0.001), train loss 0.01225\n",
            "Epoch 3/200 (lr=0.001), train loss 0.00851\n",
            "Epoch 4/200 (lr=0.001), train loss 0.00611\n",
            "Epoch 5/200 (lr=0.001), train loss 0.00393\n",
            "Epoch 6/200 (lr=0.001), train loss 0.00362\n",
            "Epoch 7/200 (lr=0.001), train loss 0.00291\n",
            "Epoch 8/200 (lr=0.001), train loss 0.00250\n",
            "Epoch 9/200 (lr=0.001), train loss 0.00232\n",
            "Training for epoch 10 done, starting evaluation\n",
            "Epoch 10/200 (lr=0.001), train loss 0.00209, valid loss 0.00388\n",
            "Model performance:\n",
            "  metrics/test.rmse:          10.10\n",
            "  metrics/test.rmse_pcutoff:  10.66\n",
            "  metrics/test.mAP:           76.53\n",
            "  metrics/test.mAR:           76.67\n",
            "Epoch 11/200 (lr=0.001), train loss 0.00244\n",
            "Epoch 12/200 (lr=0.001), train loss 0.00204\n",
            "Epoch 13/200 (lr=0.001), train loss 0.00184\n",
            "Epoch 14/200 (lr=0.001), train loss 0.00158\n",
            "Epoch 15/200 (lr=0.001), train loss 0.00143\n",
            "Epoch 16/200 (lr=0.001), train loss 0.00123\n",
            "Epoch 17/200 (lr=0.001), train loss 0.00121\n",
            "Epoch 18/200 (lr=0.001), train loss 0.00157\n",
            "Epoch 19/200 (lr=0.001), train loss 0.00135\n",
            "Training for epoch 20 done, starting evaluation\n",
            "Epoch 20/200 (lr=0.001), train loss 0.00121, valid loss 0.00267\n",
            "Model performance:\n",
            "  metrics/test.rmse:           4.11\n",
            "  metrics/test.rmse_pcutoff:   3.32\n",
            "  metrics/test.mAP:           84.95\n",
            "  metrics/test.mAR:           86.67\n",
            "Epoch 21/200 (lr=0.001), train loss 0.00110\n",
            "Epoch 22/200 (lr=0.001), train loss 0.00122\n",
            "Epoch 23/200 (lr=0.001), train loss 0.00118\n",
            "Epoch 24/200 (lr=0.001), train loss 0.00131\n",
            "Epoch 25/200 (lr=0.001), train loss 0.00124\n",
            "Epoch 26/200 (lr=0.001), train loss 0.00123\n",
            "Epoch 27/200 (lr=0.001), train loss 0.00112\n",
            "Epoch 28/200 (lr=0.001), train loss 0.00123\n",
            "Epoch 29/200 (lr=0.001), train loss 0.00122\n",
            "Training for epoch 30 done, starting evaluation\n",
            "Epoch 30/200 (lr=0.001), train loss 0.00111, valid loss 0.00238\n",
            "Model performance:\n",
            "  metrics/test.rmse:           4.21\n",
            "  metrics/test.rmse_pcutoff:   3.87\n",
            "  metrics/test.mAP:           90.59\n",
            "  metrics/test.mAR:           91.67\n",
            "Epoch 31/200 (lr=0.001), train loss 0.00098\n",
            "Epoch 32/200 (lr=0.001), train loss 0.00126\n",
            "Epoch 33/200 (lr=0.001), train loss 0.00105\n",
            "Epoch 34/200 (lr=0.001), train loss 0.00105\n",
            "Epoch 35/200 (lr=0.001), train loss 0.00107\n",
            "Epoch 36/200 (lr=0.001), train loss 0.00092\n",
            "Epoch 37/200 (lr=0.001), train loss 0.00092\n",
            "Epoch 38/200 (lr=0.001), train loss 0.00083\n",
            "Epoch 39/200 (lr=0.001), train loss 0.00098\n",
            "Training for epoch 40 done, starting evaluation\n",
            "Epoch 40/200 (lr=0.001), train loss 0.00100, valid loss 0.00190\n",
            "Model performance:\n",
            "  metrics/test.rmse:           3.68\n",
            "  metrics/test.rmse_pcutoff:   2.91\n",
            "  metrics/test.mAP:           93.27\n",
            "  metrics/test.mAR:           93.33\n",
            "Epoch 41/200 (lr=0.001), train loss 0.00092\n",
            "Epoch 42/200 (lr=0.001), train loss 0.00094\n",
            "Epoch 43/200 (lr=0.001), train loss 0.00100\n",
            "Epoch 44/200 (lr=0.001), train loss 0.00122\n",
            "Epoch 45/200 (lr=0.001), train loss 0.00116\n",
            "Epoch 46/200 (lr=0.001), train loss 0.00125\n",
            "Epoch 47/200 (lr=0.001), train loss 0.00109\n",
            "Epoch 48/200 (lr=0.001), train loss 0.00093\n",
            "Epoch 49/200 (lr=0.001), train loss 0.00090\n",
            "Training for epoch 50 done, starting evaluation\n",
            "Epoch 50/200 (lr=0.001), train loss 0.00119, valid loss 0.00167\n",
            "Model performance:\n",
            "  metrics/test.rmse:           3.27\n",
            "  metrics/test.rmse_pcutoff:   2.94\n",
            "  metrics/test.mAP:           93.96\n",
            "  metrics/test.mAR:           95.00\n",
            "Epoch 51/200 (lr=0.001), train loss 0.00095\n",
            "Epoch 52/200 (lr=0.001), train loss 0.00080\n",
            "Epoch 53/200 (lr=0.001), train loss 0.00069\n",
            "Epoch 54/200 (lr=0.001), train loss 0.00069\n",
            "Epoch 55/200 (lr=0.001), train loss 0.00061\n",
            "Epoch 56/200 (lr=0.001), train loss 0.00091\n",
            "Epoch 57/200 (lr=0.001), train loss 0.00078\n",
            "Epoch 58/200 (lr=0.001), train loss 0.00075\n",
            "Epoch 59/200 (lr=0.001), train loss 0.00100\n",
            "Training for epoch 60 done, starting evaluation\n",
            "Epoch 60/200 (lr=0.001), train loss 0.00096, valid loss 0.00203\n",
            "Model performance:\n",
            "  metrics/test.rmse:           7.56\n",
            "  metrics/test.rmse_pcutoff:   2.89\n",
            "  metrics/test.mAP:           91.58\n",
            "  metrics/test.mAR:           91.67\n",
            "Epoch 61/200 (lr=0.001), train loss 0.00075\n",
            "Epoch 62/200 (lr=0.001), train loss 0.00062\n",
            "Epoch 63/200 (lr=0.001), train loss 0.00062\n",
            "Epoch 64/200 (lr=0.001), train loss 0.00062\n",
            "Epoch 65/200 (lr=0.001), train loss 0.00065\n",
            "Epoch 66/200 (lr=0.001), train loss 0.00067\n",
            "Epoch 67/200 (lr=0.001), train loss 0.00051\n",
            "Epoch 68/200 (lr=0.001), train loss 0.00070\n",
            "Epoch 69/200 (lr=0.001), train loss 0.00056\n",
            "Training for epoch 70 done, starting evaluation\n",
            "Epoch 70/200 (lr=0.001), train loss 0.00062, valid loss 0.00149\n",
            "Model performance:\n",
            "  metrics/test.rmse:           3.19\n",
            "  metrics/test.rmse_pcutoff:   2.69\n",
            "  metrics/test.mAP:           94.95\n",
            "  metrics/test.mAR:           95.00\n",
            "Epoch 71/200 (lr=0.001), train loss 0.00059\n",
            "Epoch 72/200 (lr=0.001), train loss 0.00062\n",
            "Epoch 73/200 (lr=0.001), train loss 0.00055\n",
            "Epoch 74/200 (lr=0.001), train loss 0.00068\n",
            "Epoch 75/200 (lr=0.001), train loss 0.00075\n",
            "Epoch 76/200 (lr=0.001), train loss 0.00066\n",
            "Epoch 77/200 (lr=0.001), train loss 0.00075\n",
            "Epoch 78/200 (lr=0.001), train loss 0.00072\n",
            "Epoch 79/200 (lr=0.001), train loss 0.00063\n",
            "Training for epoch 80 done, starting evaluation\n",
            "Epoch 80/200 (lr=0.001), train loss 0.00065, valid loss 0.00143\n",
            "Model performance:\n",
            "  metrics/test.rmse:           3.26\n",
            "  metrics/test.rmse_pcutoff:   2.71\n",
            "  metrics/test.mAP:           94.95\n",
            "  metrics/test.mAR:           95.00\n",
            "Epoch 81/200 (lr=0.001), train loss 0.00069\n",
            "Epoch 82/200 (lr=0.001), train loss 0.00074\n",
            "Epoch 83/200 (lr=0.001), train loss 0.00068\n",
            "Epoch 84/200 (lr=0.001), train loss 0.00067\n",
            "Epoch 85/200 (lr=0.001), train loss 0.00070\n",
            "Epoch 86/200 (lr=0.001), train loss 0.00074\n",
            "Epoch 87/200 (lr=0.001), train loss 0.00065\n",
            "Epoch 88/200 (lr=0.001), train loss 0.00070\n",
            "Epoch 89/200 (lr=0.001), train loss 0.00070\n",
            "Training for epoch 90 done, starting evaluation\n",
            "Epoch 90/200 (lr=0.0001), train loss 0.00053, valid loss 0.00138\n",
            "Model performance:\n",
            "  metrics/test.rmse:           3.02\n",
            "  metrics/test.rmse_pcutoff:   2.76\n",
            "  metrics/test.mAP:           96.63\n",
            "  metrics/test.mAR:           96.67\n",
            "Epoch 91/200 (lr=0.0001), train loss 0.00051\n",
            "Epoch 92/200 (lr=0.0001), train loss 0.00047\n",
            "Epoch 93/200 (lr=0.0001), train loss 0.00048\n",
            "Epoch 94/200 (lr=0.0001), train loss 0.00038\n",
            "Epoch 95/200 (lr=0.0001), train loss 0.00033\n",
            "Epoch 96/200 (lr=0.0001), train loss 0.00034\n",
            "Epoch 97/200 (lr=0.0001), train loss 0.00036\n",
            "Epoch 98/200 (lr=0.0001), train loss 0.00034\n",
            "Epoch 99/200 (lr=0.0001), train loss 0.00041\n",
            "Training for epoch 100 done, starting evaluation\n",
            "Epoch 100/200 (lr=0.0001), train loss 0.00041, valid loss 0.00114\n",
            "Model performance:\n",
            "  metrics/test.rmse:           2.83\n",
            "  metrics/test.rmse_pcutoff:   2.48\n",
            "  metrics/test.mAP:           96.63\n",
            "  metrics/test.mAR:           96.67\n",
            "Epoch 101/200 (lr=0.0001), train loss 0.00034\n",
            "Epoch 102/200 (lr=0.0001), train loss 0.00039\n",
            "Epoch 103/200 (lr=0.0001), train loss 0.00038\n",
            "Epoch 104/200 (lr=0.0001), train loss 0.00037\n",
            "Epoch 105/200 (lr=0.0001), train loss 0.00039\n",
            "Epoch 106/200 (lr=0.0001), train loss 0.00040\n",
            "Epoch 107/200 (lr=0.0001), train loss 0.00034\n",
            "Epoch 108/200 (lr=0.0001), train loss 0.00042\n",
            "Epoch 109/200 (lr=0.0001), train loss 0.00033\n",
            "Training for epoch 110 done, starting evaluation\n",
            "Epoch 110/200 (lr=0.0001), train loss 0.00033, valid loss 0.00112\n",
            "Model performance:\n",
            "  metrics/test.rmse:           2.80\n",
            "  metrics/test.rmse_pcutoff:   2.49\n",
            "  metrics/test.mAP:           96.63\n",
            "  metrics/test.mAR:           96.67\n",
            "Epoch 111/200 (lr=0.0001), train loss 0.00028\n",
            "Epoch 112/200 (lr=0.0001), train loss 0.00038\n",
            "Epoch 113/200 (lr=0.0001), train loss 0.00034\n",
            "Epoch 114/200 (lr=0.0001), train loss 0.00032\n",
            "Epoch 115/200 (lr=0.0001), train loss 0.00032\n",
            "Epoch 116/200 (lr=0.0001), train loss 0.00038\n",
            "Epoch 117/200 (lr=0.0001), train loss 0.00028\n",
            "Epoch 118/200 (lr=0.0001), train loss 0.00039\n",
            "Epoch 119/200 (lr=0.0001), train loss 0.00029\n",
            "Training for epoch 120 done, starting evaluation\n",
            "Epoch 120/200 (lr=1e-05), train loss 0.00027, valid loss 0.00100\n",
            "Model performance:\n",
            "  metrics/test.rmse:           2.64\n",
            "  metrics/test.rmse_pcutoff:   2.33\n",
            "  metrics/test.mAP:           96.63\n",
            "  metrics/test.mAR:           96.67\n",
            "Epoch 121/200 (lr=1e-05), train loss 0.00038\n",
            "Epoch 122/200 (lr=1e-05), train loss 0.00042\n",
            "Epoch 123/200 (lr=1e-05), train loss 0.00029\n",
            "Epoch 124/200 (lr=1e-05), train loss 0.00038\n",
            "Epoch 125/200 (lr=1e-05), train loss 0.00040\n",
            "Epoch 126/200 (lr=1e-05), train loss 0.00033\n",
            "Epoch 127/200 (lr=1e-05), train loss 0.00041\n",
            "Epoch 128/200 (lr=1e-05), train loss 0.00031\n",
            "Epoch 129/200 (lr=1e-05), train loss 0.00039\n",
            "Training for epoch 130 done, starting evaluation\n",
            "Epoch 130/200 (lr=1e-05), train loss 0.00031, valid loss 0.00105\n",
            "Model performance:\n",
            "  metrics/test.rmse:           2.74\n",
            "  metrics/test.rmse_pcutoff:   2.44\n",
            "  metrics/test.mAP:           96.63\n",
            "  metrics/test.mAR:           96.67\n",
            "Epoch 131/200 (lr=1e-05), train loss 0.00041\n",
            "Epoch 132/200 (lr=1e-05), train loss 0.00039\n",
            "Epoch 133/200 (lr=1e-05), train loss 0.00034\n",
            "Epoch 134/200 (lr=1e-05), train loss 0.00033\n",
            "Epoch 135/200 (lr=1e-05), train loss 0.00027\n",
            "Epoch 136/200 (lr=1e-05), train loss 0.00034\n",
            "Epoch 137/200 (lr=1e-05), train loss 0.00038\n",
            "Epoch 138/200 (lr=1e-05), train loss 0.00036\n",
            "Epoch 139/200 (lr=1e-05), train loss 0.00028\n",
            "Training for epoch 140 done, starting evaluation\n",
            "Epoch 140/200 (lr=1e-05), train loss 0.00032, valid loss 0.00104\n",
            "Model performance:\n",
            "  metrics/test.rmse:           2.70\n",
            "  metrics/test.rmse_pcutoff:   2.39\n",
            "  metrics/test.mAP:           96.63\n",
            "  metrics/test.mAR:           96.67\n",
            "Epoch 141/200 (lr=1e-05), train loss 0.00034\n",
            "Epoch 142/200 (lr=1e-05), train loss 0.00037\n",
            "Epoch 143/200 (lr=1e-05), train loss 0.00030\n",
            "Epoch 144/200 (lr=1e-05), train loss 0.00037\n",
            "Epoch 145/200 (lr=1e-05), train loss 0.00039\n",
            "Epoch 146/200 (lr=1e-05), train loss 0.00035\n",
            "Epoch 147/200 (lr=1e-05), train loss 0.00033\n",
            "Epoch 148/200 (lr=1e-05), train loss 0.00031\n",
            "Epoch 149/200 (lr=1e-05), train loss 0.00034\n",
            "Training for epoch 150 done, starting evaluation\n",
            "Epoch 150/200 (lr=1e-05), train loss 0.00026, valid loss 0.00104\n",
            "Model performance:\n",
            "  metrics/test.rmse:           2.70\n",
            "  metrics/test.rmse_pcutoff:   2.38\n",
            "  metrics/test.mAP:           96.63\n",
            "  metrics/test.mAR:           96.67\n",
            "Epoch 151/200 (lr=1e-05), train loss 0.00031\n",
            "Epoch 152/200 (lr=1e-05), train loss 0.00025\n",
            "Epoch 153/200 (lr=1e-05), train loss 0.00036\n",
            "Epoch 154/200 (lr=1e-05), train loss 0.00028\n",
            "Epoch 155/200 (lr=1e-05), train loss 0.00025\n",
            "Epoch 156/200 (lr=1e-05), train loss 0.00034\n",
            "Epoch 157/200 (lr=1e-05), train loss 0.00035\n",
            "Epoch 158/200 (lr=1e-05), train loss 0.00036\n",
            "Epoch 159/200 (lr=1e-05), train loss 0.00039\n",
            "Training for epoch 160 done, starting evaluation\n",
            "Epoch 160/200 (lr=1e-05), train loss 0.00034, valid loss 0.00104\n",
            "Model performance:\n",
            "  metrics/test.rmse:           2.69\n",
            "  metrics/test.rmse_pcutoff:   2.37\n",
            "  metrics/test.mAP:           96.63\n",
            "  metrics/test.mAR:           96.67\n",
            "Epoch 161/200 (lr=1e-05), train loss 0.00031\n",
            "Epoch 162/200 (lr=1e-05), train loss 0.00030\n",
            "Epoch 163/200 (lr=1e-05), train loss 0.00027\n",
            "Epoch 164/200 (lr=1e-05), train loss 0.00036\n",
            "Epoch 165/200 (lr=1e-05), train loss 0.00038\n",
            "Epoch 166/200 (lr=1e-05), train loss 0.00039\n",
            "Epoch 167/200 (lr=1e-05), train loss 0.00036\n",
            "Epoch 168/200 (lr=1e-05), train loss 0.00040\n",
            "Epoch 169/200 (lr=1e-05), train loss 0.00043\n",
            "Training for epoch 170 done, starting evaluation\n",
            "Epoch 170/200 (lr=1e-05), train loss 0.00040, valid loss 0.00104\n",
            "Model performance:\n",
            "  metrics/test.rmse:           2.70\n",
            "  metrics/test.rmse_pcutoff:   2.37\n",
            "  metrics/test.mAP:           96.63\n",
            "  metrics/test.mAR:           96.67\n",
            "Epoch 171/200 (lr=1e-05), train loss 0.00032\n",
            "Epoch 172/200 (lr=1e-05), train loss 0.00033\n",
            "Epoch 173/200 (lr=1e-05), train loss 0.00031\n",
            "Epoch 174/200 (lr=1e-05), train loss 0.00035\n",
            "Epoch 175/200 (lr=1e-05), train loss 0.00034\n",
            "Epoch 176/200 (lr=1e-05), train loss 0.00025\n",
            "Epoch 177/200 (lr=1e-05), train loss 0.00029\n",
            "Epoch 178/200 (lr=1e-05), train loss 0.00039\n",
            "Epoch 179/200 (lr=1e-05), train loss 0.00035\n",
            "Training for epoch 180 done, starting evaluation\n",
            "Epoch 180/200 (lr=1e-05), train loss 0.00030, valid loss 0.00103\n",
            "Model performance:\n",
            "  metrics/test.rmse:           2.65\n",
            "  metrics/test.rmse_pcutoff:   2.35\n",
            "  metrics/test.mAP:           96.63\n",
            "  metrics/test.mAR:           96.67\n",
            "Epoch 181/200 (lr=1e-05), train loss 0.00033\n",
            "Epoch 182/200 (lr=1e-05), train loss 0.00030\n",
            "Epoch 183/200 (lr=1e-05), train loss 0.00033\n",
            "Epoch 184/200 (lr=1e-05), train loss 0.00035\n",
            "Epoch 185/200 (lr=1e-05), train loss 0.00029\n",
            "Epoch 186/200 (lr=1e-05), train loss 0.00034\n",
            "Epoch 187/200 (lr=1e-05), train loss 0.00046\n",
            "Epoch 188/200 (lr=1e-05), train loss 0.00024\n",
            "Epoch 189/200 (lr=1e-05), train loss 0.00039\n",
            "Training for epoch 190 done, starting evaluation\n",
            "Epoch 190/200 (lr=1e-05), train loss 0.00039, valid loss 0.00105\n",
            "Model performance:\n",
            "  metrics/test.rmse:           2.71\n",
            "  metrics/test.rmse_pcutoff:   2.40\n",
            "  metrics/test.mAP:           96.63\n",
            "  metrics/test.mAR:           96.67\n",
            "Epoch 191/200 (lr=1e-05), train loss 0.00033\n",
            "Epoch 192/200 (lr=1e-05), train loss 0.00031\n",
            "Epoch 193/200 (lr=1e-05), train loss 0.00040\n",
            "Epoch 194/200 (lr=1e-05), train loss 0.00028\n",
            "Epoch 195/200 (lr=1e-05), train loss 0.00033\n",
            "Epoch 196/200 (lr=1e-05), train loss 0.00042\n",
            "Epoch 197/200 (lr=1e-05), train loss 0.00035\n",
            "Epoch 198/200 (lr=1e-05), train loss 0.00037\n",
            "Epoch 199/200 (lr=1e-05), train loss 0.00030\n",
            "Training for epoch 200 done, starting evaluation\n",
            "Epoch 200/200 (lr=1e-05), train loss 0.00037, valid loss 0.00106\n",
            "Model performance:\n",
            "  metrics/test.rmse:           2.73\n",
            "  metrics/test.rmse_pcutoff:   2.43\n",
            "  metrics/test.mAP:           96.63\n",
            "  metrics/test.mAR:           96.67\n"
          ]
        }
      ],
      "source": [
        "# Let's also change the display and save_epochs just in case Colab takes away\n",
        "# the GPU... If that happens, you can reload from a saved point using the\n",
        "# `snapshot_path` argument to `deeplabcut.train_network`:\n",
        "#   deeplabcut.train_network(..., snapshot_path=\"/content/.../snapshot-050.pt\")\n",
        "\n",
        "# Typically, you want to train to ~200 epochs. We set the batch size to 8 to\n",
        "# utilize the GPU's capabilities.\n",
        "\n",
        "# More info and there are more things you can set:\n",
        "#   https://deeplabcut.github.io/DeepLabCut/docs/standardDeepLabCut_UserGuide.html#g-train-the-network\n",
        "\n",
        "deeplabcut.train_network(\n",
        "    path_config_file,\n",
        "    shuffle=1,\n",
        "    save_epochs=5,\n",
        "    epochs=200,\n",
        "    batch_size=8,\n",
        ")\n",
        "\n",
        "# This will run until you stop it (CTRL+C), or hit \"STOP\" icon, or when it hits the end."
      ]
    },
    {
      "cell_type": "markdown",
      "metadata": {
        "id": "RiDwIVf5-3H_"
      },
      "source": [
        "We recommend you run this for ~100 epochs, just as a demo. This should take around 15 minutes. Note, that **when you hit \"STOP\" you will get a `KeyboardInterrupt` \"error\"! No worries! :)**\n",
        "\n",
        "A new snapshot is saved every `save_epochs` epochs. So once you hit 80 epochs, your latest snapshot in `/content/cloned-DLC-repo/examples/openfield-Pranav-2018-10-30/dlc-models-pytorch/iteration-0/openfieldOct30-trainset95shuffle1/train` should be `snapshot-80.pt`. The best snapshot evaluated during training is saved, and is named `snapshot-best-XX.pt`, where `XX` is the number of epochs the model was trained with."
      ]
    },
    {
      "cell_type": "markdown",
      "metadata": {
        "id": "xZygsb2DoEJc"
      },
      "source": [
        "## Start evaluating:\n",
        "This function evaluates a trained model for a specific shuffle/shuffles at a particular state or all the states on the data set (images)\n",
        "and stores the results as .csv file in a subdirectory under **evaluation-results**"
      ]
    },
    {
      "cell_type": "code",
      "execution_count": 4,
      "metadata": {
        "id": "nv4zlbrnoEJg",
        "colab": {
          "base_uri": "https://localhost:8080/"
        },
        "outputId": "54efbb74-fc26-4359-b8ad-4609151d288f"
      },
      "outputs": [
        {
          "output_type": "stream",
          "name": "stderr",
          "text": [
            "100%|██████████| 110/110 [00:04<00:00, 24.15it/s]\n",
            "100%|██████████| 6/6 [00:00<00:00, 25.45it/s]\n"
          ]
        },
        {
          "output_type": "stream",
          "name": "stdout",
          "text": [
            "Evaluation results for DLC_Resnet50_openfieldOct30shuffle1_snapshot_090-results.csv (pcutoff: 0.4):\n",
            "train rmse             1.80\n",
            "train rmse_pcutoff     1.80\n",
            "train mAP             99.25\n",
            "train mAR             99.36\n",
            "test rmse              3.02\n",
            "test rmse_pcutoff      3.02\n",
            "test mAP              96.63\n",
            "test mAR              96.67\n",
            "Name: (0.95, 1, 90, -1, 0.4), dtype: float64\n"
          ]
        }
      ],
      "source": [
        "deeplabcut.evaluate_network(path_config_file, plotting=True)\n",
        "\n",
        "# Here you want to see a low pixel error! Of course, it can only be as\n",
        "# good as the labeler, so be sure your labels are good!"
      ]
    },
    {
      "cell_type": "markdown",
      "metadata": {
        "id": "oxy5JG-kYKF4"
      },
      "source": [
        "**Check the images**:\n",
        "\n",
        "You can go look in the newly created `\"evalutaion-results-pytorch\"` folder at the images. At around 100 epochs, the error is ~3 pixels (but this can vary on how your demo data was split for training)."
      ]
    },
    {
      "cell_type": "markdown",
      "metadata": {
        "id": "OVFLSKKfoEJk"
      },
      "source": [
        "## Start Analyzing videos:\n",
        "This function analyzes the new video. The user can choose the best model from the evaluation results and specify the correct snapshot index for the variable **snapshotindex** in the **config.yaml** file. Otherwise, by default the most recent snapshot is used to analyse the video.\n",
        "\n",
        "The results are stored in hd5 file in the same directory where the video resides.\n",
        "\n",
        "**On the demo data, this should take around ~ 90 seconds! (The demo frames are 640x480, which should run around 25 FPS on the google-provided T4 GPU)**"
      ]
    },
    {
      "cell_type": "code",
      "execution_count": 5,
      "metadata": {
        "id": "Y_LZiS_0oEJl",
        "colab": {
          "base_uri": "https://localhost:8080/",
          "height": 331
        },
        "outputId": "919e73de-8050-4b6f-9602-7af354b3c855"
      },
      "outputs": [
        {
          "output_type": "stream",
          "name": "stdout",
          "text": [
            "Analyzing videos with /content/cloned-DLC-repo/examples/openfield-Pranav-2018-10-30/dlc-models-pytorch/iteration-0/openfieldOct30-trainset95shuffle1/train/snapshot-best-090.pt\n",
            "Starting to analyze /content/cloned-DLC-repo/examples/openfield-Pranav-2018-10-30/videos/m3v1mp4.mp4\n",
            "Video metadata: \n",
            "  Overall # of frames:    2330\n",
            "  Duration of video [s]:  77.67\n",
            "  fps:                    30.0\n",
            "  resolution:             w=640, h=480\n",
            "\n",
            "Running pose prediction with batch size 4\n"
          ]
        },
        {
          "output_type": "stream",
          "name": "stderr",
          "text": [
            "100%|██████████| 2330/2330 [01:31<00:00, 25.44it/s]\n"
          ]
        },
        {
          "output_type": "stream",
          "name": "stdout",
          "text": [
            "Saving results in /content/cloned-DLC-repo/examples/openfield-Pranav-2018-10-30/videos/m3v1mp4DLC_Resnet50_openfieldOct30shuffle1_snapshot_090.h5 and /content/cloned-DLC-repo/examples/openfield-Pranav-2018-10-30/videos/m3v1mp4DLC_Resnet50_openfieldOct30shuffle1_snapshot_090_full.pickle\n",
            "The videos are analyzed. Now your research can truly start!\n",
            "You can create labeled videos with 'create_labeled_video'.\n",
            "If the tracking is not satisfactory for some videos, consider expanding the training set. You can use the function 'extract_outlier_frames' to extract a few representative outlier frames.\n",
            "\n"
          ]
        },
        {
          "output_type": "execute_result",
          "data": {
            "text/plain": [
              "'DLC_Resnet50_openfieldOct30shuffle1_snapshot_090'"
            ],
            "application/vnd.google.colaboratory.intrinsic+json": {
              "type": "string"
            }
          },
          "metadata": {},
          "execution_count": 5
        }
      ],
      "source": [
        "# Enter the list of videos to analyze.\n",
        "videofile_path = [\"/content/cloned-DLC-repo/examples/openfield-Pranav-2018-10-30/videos/m3v1mp4.mp4\"]\n",
        "deeplabcut.analyze_videos(path_config_file, videofile_path, videotype=\".mp4\")"
      ]
    },
    {
      "cell_type": "markdown",
      "metadata": {
        "id": "pCrUvQIvoEKD"
      },
      "source": [
        "## Create labeled video:\n",
        "This function is for visualiztion purpose and can be used to create a video in .mp4 format with labels predicted by the network. This video is saved in the same directory where the original video resides. This should run around 215 FPS on the demo video!"
      ]
    },
    {
      "cell_type": "code",
      "execution_count": 6,
      "metadata": {
        "id": "6aDF7Q7KoEKE",
        "colab": {
          "base_uri": "https://localhost:8080/"
        },
        "outputId": "c447583f-82bd-4ffd-bbd6-c0bc5800b9c4"
      },
      "outputs": [
        {
          "output_type": "stream",
          "name": "stdout",
          "text": [
            "Starting to process video: /content/cloned-DLC-repo/examples/openfield-Pranav-2018-10-30/videos/m3v1mp4.mp4\n",
            "Loading /content/cloned-DLC-repo/examples/openfield-Pranav-2018-10-30/videos/m3v1mp4.mp4 and data.\n",
            "Duration of video [s]: 77.67, recorded with 30.0 fps!\n",
            "Overall # of frames: 2330 with cropped frame dimensions: 640 480\n",
            "Generating frames and creating video.\n"
          ]
        },
        {
          "output_type": "stream",
          "name": "stderr",
          "text": [
            "100%|██████████| 2330/2330 [00:13<00:00, 176.72it/s]\n"
          ]
        },
        {
          "output_type": "execute_result",
          "data": {
            "text/plain": [
              "[True]"
            ]
          },
          "metadata": {},
          "execution_count": 6
        }
      ],
      "source": [
        "deeplabcut.create_labeled_video(path_config_file, videofile_path)"
      ]
    },
    {
      "cell_type": "markdown",
      "metadata": {
        "id": "8GTiuJESoEKH"
      },
      "source": [
        "## Plot the trajectories of the analyzed videos:\n",
        "This function plots the trajectories of all the body parts across the entire video. Each body part is identified by a unique color."
      ]
    },
    {
      "cell_type": "code",
      "execution_count": 7,
      "metadata": {
        "id": "gX21zZbXoEKJ",
        "colab": {
          "base_uri": "https://localhost:8080/"
        },
        "outputId": "95eb36ff-53cc-46b8-d385-6e2fb8d4891b"
      },
      "outputs": [
        {
          "output_type": "stream",
          "name": "stdout",
          "text": [
            "Loading  /content/cloned-DLC-repo/examples/openfield-Pranav-2018-10-30/videos/m3v1mp4.mp4 and data.\n",
            "Plots created! Please check the directory \"plot-poses\" within the video directory\n"
          ]
        }
      ],
      "source": [
        "deeplabcut.plot_trajectories(path_config_file, videofile_path)"
      ]
    }
  ],
  "metadata": {
    "accelerator": "GPU",
    "colab": {
      "name": "Colab_DEMO_mouse_openfield.ipynb",
      "provenance": [],
      "gpuType": "T4",
      "include_colab_link": true
    },
    "kernelspec": {
      "display_name": "Python 3",
      "name": "python3"
    },
    "language_info": {
      "codemirror_mode": {
        "name": "ipython",
        "version": 3
      },
      "file_extension": ".py",
      "mimetype": "text/x-python",
      "name": "python",
      "nbconvert_exporter": "python",
      "pygments_lexer": "ipython3",
      "version": "3.6.9"
    },
    "widgets": {
      "application/vnd.jupyter.widget-state+json": {
        "4a0814500e4548fb9ca275f0a28566de": {
          "model_module": "@jupyter-widgets/controls",
          "model_name": "HBoxModel",
          "model_module_version": "1.5.0",
          "state": {
            "_dom_classes": [],
            "_model_module": "@jupyter-widgets/controls",
            "_model_module_version": "1.5.0",
            "_model_name": "HBoxModel",
            "_view_count": null,
            "_view_module": "@jupyter-widgets/controls",
            "_view_module_version": "1.5.0",
            "_view_name": "HBoxView",
            "box_style": "",
            "children": [
              "IPY_MODEL_1de0f83362844fa296de1eee35bdbc94",
              "IPY_MODEL_93ed4ed6ba7a48bd836c169e2f08afb7",
              "IPY_MODEL_0488c585c33440ef9f785943320db8a3"
            ],
            "layout": "IPY_MODEL_ff76a81ea94b40dfa2d778545ee39c6a"
          }
        },
        "1de0f83362844fa296de1eee35bdbc94": {
          "model_module": "@jupyter-widgets/controls",
          "model_name": "HTMLModel",
          "model_module_version": "1.5.0",
          "state": {
            "_dom_classes": [],
            "_model_module": "@jupyter-widgets/controls",
            "_model_module_version": "1.5.0",
            "_model_name": "HTMLModel",
            "_view_count": null,
            "_view_module": "@jupyter-widgets/controls",
            "_view_module_version": "1.5.0",
            "_view_name": "HTMLView",
            "description": "",
            "description_tooltip": null,
            "layout": "IPY_MODEL_98282b86b49a43b1ad37fe75fb6bc31f",
            "placeholder": "​",
            "style": "IPY_MODEL_aa4e934175d1450c9d55df3003af1f29",
            "value": "model.safetensors: 100%"
          }
        },
        "93ed4ed6ba7a48bd836c169e2f08afb7": {
          "model_module": "@jupyter-widgets/controls",
          "model_name": "FloatProgressModel",
          "model_module_version": "1.5.0",
          "state": {
            "_dom_classes": [],
            "_model_module": "@jupyter-widgets/controls",
            "_model_module_version": "1.5.0",
            "_model_name": "FloatProgressModel",
            "_view_count": null,
            "_view_module": "@jupyter-widgets/controls",
            "_view_module_version": "1.5.0",
            "_view_name": "ProgressView",
            "bar_style": "success",
            "description": "",
            "description_tooltip": null,
            "layout": "IPY_MODEL_73acb0cff0c44a6281b1fa8a16f23354",
            "max": 102242522,
            "min": 0,
            "orientation": "horizontal",
            "style": "IPY_MODEL_af680e244ea34378bd28c7d533e80b98",
            "value": 102242522
          }
        },
        "0488c585c33440ef9f785943320db8a3": {
          "model_module": "@jupyter-widgets/controls",
          "model_name": "HTMLModel",
          "model_module_version": "1.5.0",
          "state": {
            "_dom_classes": [],
            "_model_module": "@jupyter-widgets/controls",
            "_model_module_version": "1.5.0",
            "_model_name": "HTMLModel",
            "_view_count": null,
            "_view_module": "@jupyter-widgets/controls",
            "_view_module_version": "1.5.0",
            "_view_name": "HTMLView",
            "description": "",
            "description_tooltip": null,
            "layout": "IPY_MODEL_4038c0ebd6f841dca23fa343a7d16493",
            "placeholder": "​",
            "style": "IPY_MODEL_2bc3e874304e4e0987ada5cf453e8263",
            "value": " 102M/102M [00:01&lt;00:00, 126MB/s]"
          }
        },
        "ff76a81ea94b40dfa2d778545ee39c6a": {
          "model_module": "@jupyter-widgets/base",
          "model_name": "LayoutModel",
          "model_module_version": "1.2.0",
          "state": {
            "_model_module": "@jupyter-widgets/base",
            "_model_module_version": "1.2.0",
            "_model_name": "LayoutModel",
            "_view_count": null,
            "_view_module": "@jupyter-widgets/base",
            "_view_module_version": "1.2.0",
            "_view_name": "LayoutView",
            "align_content": null,
            "align_items": null,
            "align_self": null,
            "border": null,
            "bottom": null,
            "display": null,
            "flex": null,
            "flex_flow": null,
            "grid_area": null,
            "grid_auto_columns": null,
            "grid_auto_flow": null,
            "grid_auto_rows": null,
            "grid_column": null,
            "grid_gap": null,
            "grid_row": null,
            "grid_template_areas": null,
            "grid_template_columns": null,
            "grid_template_rows": null,
            "height": null,
            "justify_content": null,
            "justify_items": null,
            "left": null,
            "margin": null,
            "max_height": null,
            "max_width": null,
            "min_height": null,
            "min_width": null,
            "object_fit": null,
            "object_position": null,
            "order": null,
            "overflow": null,
            "overflow_x": null,
            "overflow_y": null,
            "padding": null,
            "right": null,
            "top": null,
            "visibility": null,
            "width": null
          }
        },
        "98282b86b49a43b1ad37fe75fb6bc31f": {
          "model_module": "@jupyter-widgets/base",
          "model_name": "LayoutModel",
          "model_module_version": "1.2.0",
          "state": {
            "_model_module": "@jupyter-widgets/base",
            "_model_module_version": "1.2.0",
            "_model_name": "LayoutModel",
            "_view_count": null,
            "_view_module": "@jupyter-widgets/base",
            "_view_module_version": "1.2.0",
            "_view_name": "LayoutView",
            "align_content": null,
            "align_items": null,
            "align_self": null,
            "border": null,
            "bottom": null,
            "display": null,
            "flex": null,
            "flex_flow": null,
            "grid_area": null,
            "grid_auto_columns": null,
            "grid_auto_flow": null,
            "grid_auto_rows": null,
            "grid_column": null,
            "grid_gap": null,
            "grid_row": null,
            "grid_template_areas": null,
            "grid_template_columns": null,
            "grid_template_rows": null,
            "height": null,
            "justify_content": null,
            "justify_items": null,
            "left": null,
            "margin": null,
            "max_height": null,
            "max_width": null,
            "min_height": null,
            "min_width": null,
            "object_fit": null,
            "object_position": null,
            "order": null,
            "overflow": null,
            "overflow_x": null,
            "overflow_y": null,
            "padding": null,
            "right": null,
            "top": null,
            "visibility": null,
            "width": null
          }
        },
        "aa4e934175d1450c9d55df3003af1f29": {
          "model_module": "@jupyter-widgets/controls",
          "model_name": "DescriptionStyleModel",
          "model_module_version": "1.5.0",
          "state": {
            "_model_module": "@jupyter-widgets/controls",
            "_model_module_version": "1.5.0",
            "_model_name": "DescriptionStyleModel",
            "_view_count": null,
            "_view_module": "@jupyter-widgets/base",
            "_view_module_version": "1.2.0",
            "_view_name": "StyleView",
            "description_width": ""
          }
        },
        "73acb0cff0c44a6281b1fa8a16f23354": {
          "model_module": "@jupyter-widgets/base",
          "model_name": "LayoutModel",
          "model_module_version": "1.2.0",
          "state": {
            "_model_module": "@jupyter-widgets/base",
            "_model_module_version": "1.2.0",
            "_model_name": "LayoutModel",
            "_view_count": null,
            "_view_module": "@jupyter-widgets/base",
            "_view_module_version": "1.2.0",
            "_view_name": "LayoutView",
            "align_content": null,
            "align_items": null,
            "align_self": null,
            "border": null,
            "bottom": null,
            "display": null,
            "flex": null,
            "flex_flow": null,
            "grid_area": null,
            "grid_auto_columns": null,
            "grid_auto_flow": null,
            "grid_auto_rows": null,
            "grid_column": null,
            "grid_gap": null,
            "grid_row": null,
            "grid_template_areas": null,
            "grid_template_columns": null,
            "grid_template_rows": null,
            "height": null,
            "justify_content": null,
            "justify_items": null,
            "left": null,
            "margin": null,
            "max_height": null,
            "max_width": null,
            "min_height": null,
            "min_width": null,
            "object_fit": null,
            "object_position": null,
            "order": null,
            "overflow": null,
            "overflow_x": null,
            "overflow_y": null,
            "padding": null,
            "right": null,
            "top": null,
            "visibility": null,
            "width": null
          }
        },
        "af680e244ea34378bd28c7d533e80b98": {
          "model_module": "@jupyter-widgets/controls",
          "model_name": "ProgressStyleModel",
          "model_module_version": "1.5.0",
          "state": {
            "_model_module": "@jupyter-widgets/controls",
            "_model_module_version": "1.5.0",
            "_model_name": "ProgressStyleModel",
            "_view_count": null,
            "_view_module": "@jupyter-widgets/base",
            "_view_module_version": "1.2.0",
            "_view_name": "StyleView",
            "bar_color": null,
            "description_width": ""
          }
        },
        "4038c0ebd6f841dca23fa343a7d16493": {
          "model_module": "@jupyter-widgets/base",
          "model_name": "LayoutModel",
          "model_module_version": "1.2.0",
          "state": {
            "_model_module": "@jupyter-widgets/base",
            "_model_module_version": "1.2.0",
            "_model_name": "LayoutModel",
            "_view_count": null,
            "_view_module": "@jupyter-widgets/base",
            "_view_module_version": "1.2.0",
            "_view_name": "LayoutView",
            "align_content": null,
            "align_items": null,
            "align_self": null,
            "border": null,
            "bottom": null,
            "display": null,
            "flex": null,
            "flex_flow": null,
            "grid_area": null,
            "grid_auto_columns": null,
            "grid_auto_flow": null,
            "grid_auto_rows": null,
            "grid_column": null,
            "grid_gap": null,
            "grid_row": null,
            "grid_template_areas": null,
            "grid_template_columns": null,
            "grid_template_rows": null,
            "height": null,
            "justify_content": null,
            "justify_items": null,
            "left": null,
            "margin": null,
            "max_height": null,
            "max_width": null,
            "min_height": null,
            "min_width": null,
            "object_fit": null,
            "object_position": null,
            "order": null,
            "overflow": null,
            "overflow_x": null,
            "overflow_y": null,
            "padding": null,
            "right": null,
            "top": null,
            "visibility": null,
            "width": null
          }
        },
        "2bc3e874304e4e0987ada5cf453e8263": {
          "model_module": "@jupyter-widgets/controls",
          "model_name": "DescriptionStyleModel",
          "model_module_version": "1.5.0",
          "state": {
            "_model_module": "@jupyter-widgets/controls",
            "_model_module_version": "1.5.0",
            "_model_name": "DescriptionStyleModel",
            "_view_count": null,
            "_view_module": "@jupyter-widgets/base",
            "_view_module_version": "1.2.0",
            "_view_name": "StyleView",
            "description_width": ""
          }
        }
      }
    }
  },
  "nbformat": 4,
  "nbformat_minor": 0
}